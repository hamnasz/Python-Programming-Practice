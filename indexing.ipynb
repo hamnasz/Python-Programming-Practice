#Indexing is the location identifier in python
#Strings are ordered sequence characters
#Python always starts from 0

name = 'Humna Imran'
print (name[0])
print (name[4])