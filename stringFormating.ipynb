# It is used to compact a statement and reduce number of plus signs
name = 'Hamna'
price = '100 $'

print ('Hello ' + name + ' Your Bag price is: ' + price)

# But this statment has alot of '+' sign we can compact it like this:

print ('Hello {} Your Bag Price is: {} ' . format (name , price))

# You can also add {0} and {1} in the brackets 
# Which means 0 is first value and 1 is second value
# But this was used in older versions