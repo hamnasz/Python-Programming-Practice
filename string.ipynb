name = input('Please Enter Your Name: ')
message = 'Hello Welcome '
print (message + name )